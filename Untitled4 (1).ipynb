{
 "cells": [
  {
   "cell_type": "code",
   "execution_count": 5,
   "id": "50423edb",
   "metadata": {},
   "outputs": [],
   "source": [
    "import pandas as pd"
   ]
  },
  {
   "cell_type": "code",
   "execution_count": 6,
   "id": "5ee4382d",
   "metadata": {},
   "outputs": [],
   "source": [
    "df_input=pd.DataFrame()\n",
    "df_2=pd.DataFrame()"
   ]
  },
  {
   "cell_type": "code",
   "execution_count": 10,
   "id": "cefe623c",
   "metadata": {},
   "outputs": [],
   "source": [
    "\n",
    "\n",
    "def Individual_details(n):\n",
    "    names=[]\n",
    "    team_names=[]\n",
    "    UID=[]\n",
    "    i=0\n",
    "    while i <n:\n",
    "        name=input(\"Enter ur  name \")\n",
    "        names.append(name)\n",
    "        team_name=input(\"Enter team_name:\")\n",
    "        team_names.append(team_name)\n",
    "        uid=int(input(\"Enter USerID:\"))\n",
    "        UID.append(uid)\n",
    "        i=i+1\n",
    "    \n",
    "    df_input=pd.DataFrame([names,team_names,UID],index=['Names','Team_names',\"UID\"]).T\n",
    "    print(df_input)\n",
    "    return df_input\n",
    "\n",
    "def Activity_input(n):\n",
    "    UID=[]\n",
    "    total_statements=[]\n",
    "    total_reasons=[]\n",
    "    i=0\n",
    "    while i <n:\n",
    "        total_stats=int(input(\"Enter total_statements:\"))\n",
    "        total_statements.append(total_stats)\n",
    "        total_reas=int(input(\"Enter total_reasons:\"))\n",
    "        total_reasons.append(total_reas)\n",
    "        uid=int(input(\"Enter USerID:\"))\n",
    "        UID.append(uid)\n",
    "        i=i+1\n",
    "        \n",
    "    df_2= pd.DataFrame([UID,total_statements,total_reasons],\n",
    "                              index=[\"UID\",\"total_statements\",\"total_reasons\"])\n",
    "    print(df_2)\n",
    "    return df_2\n",
    " \n",
    "    "
   ]
  },
  {
   "cell_type": "code",
   "execution_count": null,
   "id": "5fd2f568",
   "metadata": {},
   "outputs": [],
   "source": [
    "n=int(input(\"No of inputs:\"))"
   ]
  },
  {
   "cell_type": "code",
   "execution_count": null,
   "id": "dd6a1674",
   "metadata": {},
   "outputs": [],
   "source": [
    "\n",
    "Individual_details(n)\n",
    "\n",
    "Activity_input(n)\n"
   ]
  },
  {
   "cell_type": "code",
   "execution_count": null,
   "id": "3347a949",
   "metadata": {},
   "outputs": [],
   "source": [
    "df=pd.concat(df_input,df_2).drop_duplicates()\n",
    "df"
   ]
  },
  {
   "cell_type": "code",
   "execution_count": null,
   "id": "ac8f527d",
   "metadata": {},
   "outputs": [],
   "source": [
    "def Team_wise_LeaderBoard():\n",
    "    pd.crosstab(df.Team_names, values = df[\"total_statements\",\"total_responses\"], aggfunc = 'mean')"
   ]
  },
  {
   "cell_type": "code",
   "execution_count": null,
   "id": "ffd72c4e",
   "metadata": {},
   "outputs": [],
   "source": [
    "   \n",
    "def Individual_leaderboard(x,y):\n",
    "    \n",
    "    df= pd.merge(x,y,on='UID',how='outer')\n",
    "\n",
    "    #df_input['rank']=df_input['total_statements'].rank(ascending=False)\n",
    "    print(\"Individual Leaderboard of user:\")\n",
    "    df.sort_values(by=['total_statements','total_reasons'],ascending=False)\n",
    "    print(df)"
   ]
  }
 ],
 "metadata": {
  "kernelspec": {
   "display_name": "Python 3 (ipykernel)",
   "language": "python",
   "name": "python3"
  },
  "language_info": {
   "codemirror_mode": {
    "name": "ipython",
    "version": 3
   },
   "file_extension": ".py",
   "mimetype": "text/x-python",
   "name": "python",
   "nbconvert_exporter": "python",
   "pygments_lexer": "ipython3",
   "version": "3.9.12"
  }
 },
 "nbformat": 4,
 "nbformat_minor": 5
}
